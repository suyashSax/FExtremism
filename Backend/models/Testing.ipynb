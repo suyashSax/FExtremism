{
 "cells": [
  {
   "cell_type": "code",
   "execution_count": 2,
   "metadata": {
    "collapsed": true
   },
   "outputs": [],
   "source": [
    "from __future__ import absolute_import, division, print_function\n",
    "import codecs\n",
    "import glob\n",
    "import multiprocessing\n",
    "import os\n",
    "import pprint\n",
    "import re\n",
    "import nltk\n",
    "import gensim.models.word2vec as w2v\n",
    "import sklearn.manifold\n",
    "import numpy as np\n",
    "import matplotlib.pyplot as plt\n",
    "import pandas as pd\n",
    "import seaborn as sns"
   ]
  },
  {
   "cell_type": "code",
   "execution_count": 3,
   "metadata": {
    "collapsed": false
   },
   "outputs": [
    {
     "name": "stdout",
     "output_type": "stream",
     "text": [
      "[nltk_data] Downloading package punkt to /Users/Sachin/nltk_data...\n",
      "[nltk_data]   Package punkt is already up-to-date!\n",
      "[nltk_data] Downloading package stopwords to\n",
      "[nltk_data]     /Users/Sachin/nltk_data...\n",
      "[nltk_data]   Package stopwords is already up-to-date!\n"
     ]
    },
    {
     "data": {
      "text/plain": [
       "True"
      ]
     },
     "execution_count": 3,
     "metadata": {},
     "output_type": "execute_result"
    }
   ],
   "source": [
    "nltk.download(\"punkt\")\n",
    "nltk.download(\"stopwords\")"
   ]
  },
  {
   "cell_type": "code",
   "execution_count": 4,
   "metadata": {
    "collapsed": false
   },
   "outputs": [
    {
     "name": "stdout",
     "output_type": "stream",
     "text": [
      "Populating the interactive namespace from numpy and matplotlib\n"
     ]
    }
   ],
   "source": [
    "%pylab inline"
   ]
  },
  {
   "cell_type": "code",
   "execution_count": 50,
   "metadata": {
    "collapsed": false
   },
   "outputs": [
    {
     "name": "stdout",
     "output_type": "stream",
     "text": [
      "Found books:\n"
     ]
    },
    {
     "data": {
      "text/plain": [
       "['Python 2017/data/trial.txt']"
      ]
     },
     "execution_count": 50,
     "metadata": {},
     "output_type": "execute_result"
    }
   ],
   "source": [
    "book_filenames = sorted(glob.glob(\"Python 2017/data/trial.txt\"))\n",
    "print(\"Found books:\")\n",
    "book_filenames"
   ]
  },
  {
   "cell_type": "code",
   "execution_count": 51,
   "metadata": {
    "collapsed": false
   },
   "outputs": [
    {
     "name": "stdout",
     "output_type": "stream",
     "text": [
      "Reading 'Python 2017/data/trial.txt'...\n",
      "Corpus is now 1976 characters long\n",
      "\n"
     ]
    }
   ],
   "source": [
    "corpus_raw = u\"\"\n",
    "for book_filename in book_filenames:\n",
    "    print(\"Reading '{0}'...\".format(book_filename))\n",
    "    with codecs.open(book_filename, \"r\", \"utf-8\") as book_file:\n",
    "        corpus_raw += book_file.read()\n",
    "    print(\"Corpus is now {0} characters long\".format(len(corpus_raw)))\n",
    "    print()"
   ]
  },
  {
   "cell_type": "code",
   "execution_count": 7,
   "metadata": {
    "collapsed": false
   },
   "outputs": [
    {
     "ename": "NameError",
     "evalue": "name 'logging' is not defined",
     "output_type": "error",
     "traceback": [
      "\u001b[0;31m---------------------------------------------------------------------------\u001b[0m",
      "\u001b[0;31mNameError\u001b[0m                                 Traceback (most recent call last)",
      "\u001b[0;32m<ipython-input-7-b2d28711e32c>\u001b[0m in \u001b[0;36m<module>\u001b[0;34m()\u001b[0m\n\u001b[0;32m----> 1\u001b[0;31m \u001b[0mlogging\u001b[0m\u001b[0;34m.\u001b[0m\u001b[0mbasicConfig\u001b[0m\u001b[0;34m(\u001b[0m\u001b[0mformat\u001b[0m\u001b[0;34m=\u001b[0m\u001b[0;34m'%(asctime)s : %(levelname)s : %(message)s'\u001b[0m\u001b[0;34m,\u001b[0m \u001b[0mlevel\u001b[0m\u001b[0;34m=\u001b[0m\u001b[0mlogging\u001b[0m\u001b[0;34m.\u001b[0m\u001b[0mINFO\u001b[0m\u001b[0;34m)\u001b[0m\u001b[0;34m\u001b[0m\u001b[0m\n\u001b[0m",
      "\u001b[0;31mNameError\u001b[0m: name 'logging' is not defined"
     ]
    }
   ],
   "source": [
    "logging.basicConfig(format='%(asctime)s : %(levelname)s : %(message)s', level=logging.INFO)"
   ]
  },
  {
   "cell_type": "code",
   "execution_count": 34,
   "metadata": {
    "collapsed": false
   },
   "outputs": [
    {
     "name": "stdout",
     "output_type": "stream",
     "text": [
      "Found books:\n"
     ]
    },
    {
     "data": {
      "text/plain": [
       "[]"
      ]
     },
     "execution_count": 34,
     "metadata": {},
     "output_type": "execute_result"
    }
   ],
   "source": []
  },
  {
   "cell_type": "code",
   "execution_count": 35,
   "metadata": {
    "collapsed": false
   },
   "outputs": [
    {
     "name": "stdout",
     "output_type": "stream",
     "text": [
      "Found books:\n"
     ]
    },
    {
     "data": {
      "text/plain": [
       "[]"
      ]
     },
     "execution_count": 35,
     "metadata": {},
     "output_type": "execute_result"
    }
   ],
   "source": []
  },
  {
   "cell_type": "code",
   "execution_count": 9,
   "metadata": {
    "collapsed": false
   },
   "outputs": [
    {
     "name": "stdout",
     "output_type": "stream",
     "text": [
      "Found books:\n"
     ]
    },
    {
     "data": {
      "text/plain": [
       "['Python 2017/data/got1.txt',\n",
       " 'Python 2017/data/got2.txt',\n",
       " 'Python 2017/data/got3.txt',\n",
       " 'Python 2017/data/got4.txt',\n",
       " 'Python 2017/data/got5.txt',\n",
       " 'Python 2017/data/test.txt']"
      ]
     },
     "execution_count": 9,
     "metadata": {},
     "output_type": "execute_result"
    }
   ],
   "source": []
  },
  {
   "cell_type": "code",
   "execution_count": 76,
   "metadata": {
    "collapsed": false
   },
   "outputs": [
    {
     "name": "stdout",
     "output_type": "stream",
     "text": [
      "Found books:\n"
     ]
    },
    {
     "data": {
      "text/plain": [
       "['Python 2017/data/trial.txt']"
      ]
     },
     "execution_count": 76,
     "metadata": {},
     "output_type": "execute_result"
    }
   ],
   "source": [
    "book_filenames = sorted(glob.glob(\"Python 2017/data/trial.txt\"))\n",
    "print(\"Found books:\")\n",
    "book_filenames"
   ]
  },
  {
   "cell_type": "code",
   "execution_count": 77,
   "metadata": {
    "collapsed": false
   },
   "outputs": [
    {
     "name": "stdout",
     "output_type": "stream",
     "text": [
      "Reading 'Python 2017/data/trial.txt'...\n",
      "Corpus is now 3495 characters long\n",
      "\n"
     ]
    }
   ],
   "source": [
    "corpus_raw = u\"\"\n",
    "for book_filename in book_filenames:\n",
    "    print(\"Reading '{0}'...\".format(book_filename))\n",
    "    with codecs.open(book_filename, \"r\", \"utf-8\") as book_file:\n",
    "        corpus_raw += book_file.read()\n",
    "    print(\"Corpus is now {0} characters long\".format(len(corpus_raw)))\n",
    "    print()"
   ]
  },
  {
   "cell_type": "code",
   "execution_count": 78,
   "metadata": {
    "collapsed": true
   },
   "outputs": [],
   "source": [
    "tokenizer = nltk.data.load('tokenizers/punkt/english.pickle')"
   ]
  },
  {
   "cell_type": "code",
   "execution_count": 79,
   "metadata": {
    "collapsed": true
   },
   "outputs": [],
   "source": [
    "raw_sentences = tokenizer.tokenize(corpus_raw)\n"
   ]
  },
  {
   "cell_type": "code",
   "execution_count": 80,
   "metadata": {
    "collapsed": true
   },
   "outputs": [],
   "source": [
    "def sentence_to_wordlist(raw):\n",
    "    clean = re.sub(\"[^a-zA-Z]\",\" \", raw)\n",
    "    words = clean.split()\n",
    "    return words"
   ]
  },
  {
   "cell_type": "code",
   "execution_count": 81,
   "metadata": {
    "collapsed": true
   },
   "outputs": [],
   "source": [
    "sentences = []\n",
    "for raw_sentence in raw_sentences:\n",
    "    if len(raw_sentence) > 0:\n",
    "        sentences.append(sentence_to_wordlist(raw_sentence))"
   ]
  },
  {
   "cell_type": "code",
   "execution_count": 82,
   "metadata": {
    "collapsed": false
   },
   "outputs": [
    {
     "name": "stdout",
     "output_type": "stream",
     "text": [
      "We then shortlisted the best five restaurants and created a competition for first place,” Thani told Gulf News.\n",
      "[u'We', u'then', u'shortlisted', u'the', u'best', u'five', u'restaurants', u'and', u'created', u'a', u'competition', u'for', u'first', u'place', u'Thani', u'told', u'Gulf', u'News']\n"
     ]
    }
   ],
   "source": [
    "print(raw_sentences[5])\n",
    "print(sentence_to_wordlist(raw_sentences[5]))"
   ]
  },
  {
   "cell_type": "code",
   "execution_count": 83,
   "metadata": {
    "collapsed": false
   },
   "outputs": [
    {
     "name": "stdout",
     "output_type": "stream",
     "text": [
      "The book corpus contains 552 tokens\n"
     ]
    }
   ],
   "source": [
    "token_count = sum([len(sentence) for sentence in sentences])\n",
    "print(\"The book corpus contains {0:,} tokens\".format(token_count))"
   ]
  },
  {
   "cell_type": "code",
   "execution_count": 84,
   "metadata": {
    "collapsed": false
   },
   "outputs": [],
   "source": [
    "#step 3 - build model\n",
    "#3 main tasks that vectors help with\n",
    "#DISTANCE, SIMILARITY, RANKING\n",
    "\n",
    "# Dimensionality of the resulting word vectors.\n",
    "#more dimensions, more computationally expensive to train\n",
    "#but also more accurate\n",
    "#more dimensions = more generalized\n",
    "num_features = 300\n",
    "# Minimum word count threshold.\n",
    "min_word_count = 0\n",
    "\n",
    "# Number of threads to run in parallel.\n",
    "#more workers, faster we train\n",
    "num_workers = multiprocessing.cpu_count()\n",
    "\n",
    "# Context window length.\n",
    "context_size = 5\n",
    "\n",
    "# Downsample setting for frequent words.\n",
    "#0 - 1e-5 is good for this\n",
    "downsampling = 1e-3\n",
    "\n",
    "# Seed for the RNG, to make the results reproducible.\n",
    "#random number generator\n",
    "#deterministic, good for debugging\n",
    "seed = 1"
   ]
  },
  {
   "cell_type": "code",
   "execution_count": 85,
   "metadata": {
    "collapsed": true
   },
   "outputs": [],
   "source": [
    "thrones2vec = w2v.Word2Vec(\n",
    "    sg=1,\n",
    "    seed=seed,\n",
    "    workers=num_workers,\n",
    "    size=num_features,\n",
    "    min_count=min_word_count,\n",
    "    window=context_size,\n",
    "    sample=downsampling\n",
    ")\n"
   ]
  },
  {
   "cell_type": "code",
   "execution_count": 86,
   "metadata": {
    "collapsed": true
   },
   "outputs": [],
   "source": [
    "thrones2vec.build_vocab(sentences)"
   ]
  },
  {
   "cell_type": "code",
   "execution_count": 87,
   "metadata": {
    "collapsed": false
   },
   "outputs": [
    {
     "name": "stdout",
     "output_type": "stream",
     "text": [
      "Word2Vec vocabulary length: 336\n"
     ]
    }
   ],
   "source": [
    "print(\"Word2Vec vocabulary length:\", len(thrones2vec.vocab))"
   ]
  },
  {
   "cell_type": "code",
   "execution_count": 88,
   "metadata": {
    "collapsed": false
   },
   "outputs": [
    {
     "data": {
      "text/plain": [
       "2014"
      ]
     },
     "execution_count": 88,
     "metadata": {},
     "output_type": "execute_result"
    }
   ],
   "source": [
    "thrones2vec.train(sentences)"
   ]
  },
  {
   "cell_type": "code",
   "execution_count": 89,
   "metadata": {
    "collapsed": true
   },
   "outputs": [],
   "source": [
    "if not os.path.exists(\"trained\"):\n",
    "    os.makedirs(\"trained\")"
   ]
  },
  {
   "cell_type": "code",
   "execution_count": 90,
   "metadata": {
    "collapsed": true
   },
   "outputs": [],
   "source": [
    "thrones2vec.save(os.path.join(\"trained\", \"test.w2v\"))"
   ]
  },
  {
   "cell_type": "code",
   "execution_count": 91,
   "metadata": {
    "collapsed": true
   },
   "outputs": [],
   "source": [
    "thrones2vec = w2v.Word2Vec.load(os.path.join(\"trained\", \"test.w2v\"))"
   ]
  },
  {
   "cell_type": "code",
   "execution_count": 92,
   "metadata": {
    "collapsed": true
   },
   "outputs": [],
   "source": [
    "tsne = sklearn.manifold.TSNE(n_components=2, random_state=0)"
   ]
  },
  {
   "cell_type": "code",
   "execution_count": 93,
   "metadata": {
    "collapsed": true
   },
   "outputs": [],
   "source": [
    "all_word_vectors_matrix = thrones2vec.syn0"
   ]
  },
  {
   "cell_type": "code",
   "execution_count": 94,
   "metadata": {
    "collapsed": true
   },
   "outputs": [],
   "source": [
    "all_word_vectors_matrix_2d = tsne.fit_transform(all_word_vectors_matrix)"
   ]
  },
  {
   "cell_type": "code",
   "execution_count": 95,
   "metadata": {
    "collapsed": true
   },
   "outputs": [],
   "source": [
    "points = pd.DataFrame(\n",
    "    [\n",
    "        (word, coords[0], coords[1])\n",
    "        for word, coords in [\n",
    "            (word, all_word_vectors_matrix_2d[thrones2vec.vocab[word].index])\n",
    "            for word in thrones2vec.vocab\n",
    "        ]\n",
    "    ],\n",
    "    columns=[\"word\", \"x\", \"y\"]\n",
    ")"
   ]
  },
  {
   "cell_type": "code",
   "execution_count": 96,
   "metadata": {
    "collapsed": false
   },
   "outputs": [
    {
     "data": {
      "text/html": [
       "<div>\n",
       "<table border=\"1\" class=\"dataframe\">\n",
       "  <thead>\n",
       "    <tr style=\"text-align: right;\">\n",
       "      <th></th>\n",
       "      <th>word</th>\n",
       "      <th>x</th>\n",
       "      <th>y</th>\n",
       "    </tr>\n",
       "  </thead>\n",
       "  <tbody>\n",
       "    <tr>\n",
       "      <th>0</th>\n",
       "      <td>rifles</td>\n",
       "      <td>-24.213575</td>\n",
       "      <td>-3.010552</td>\n",
       "    </tr>\n",
       "    <tr>\n",
       "      <th>1</th>\n",
       "      <td>bomb</td>\n",
       "      <td>-34.507851</td>\n",
       "      <td>-26.001103</td>\n",
       "    </tr>\n",
       "    <tr>\n",
       "      <th>2</th>\n",
       "      <td>feedback</td>\n",
       "      <td>10.043544</td>\n",
       "      <td>4.857262</td>\n",
       "    </tr>\n",
       "    <tr>\n",
       "      <th>3</th>\n",
       "      <td>Thani</td>\n",
       "      <td>-2.697313</td>\n",
       "      <td>-49.748048</td>\n",
       "    </tr>\n",
       "    <tr>\n",
       "      <th>4</th>\n",
       "      <td>Paris</td>\n",
       "      <td>2.861666</td>\n",
       "      <td>-28.239175</td>\n",
       "    </tr>\n",
       "    <tr>\n",
       "      <th>5</th>\n",
       "      <td>over</td>\n",
       "      <td>14.414274</td>\n",
       "      <td>17.500368</td>\n",
       "    </tr>\n",
       "    <tr>\n",
       "      <th>6</th>\n",
       "      <td>fall</td>\n",
       "      <td>20.078810</td>\n",
       "      <td>10.250752</td>\n",
       "    </tr>\n",
       "    <tr>\n",
       "      <th>7</th>\n",
       "      <td>Islamic</td>\n",
       "      <td>28.367043</td>\n",
       "      <td>19.137521</td>\n",
       "    </tr>\n",
       "    <tr>\n",
       "      <th>8</th>\n",
       "      <td>mission</td>\n",
       "      <td>-10.653073</td>\n",
       "      <td>-9.090438</td>\n",
       "    </tr>\n",
       "    <tr>\n",
       "      <th>9</th>\n",
       "      <td>ala</td>\n",
       "      <td>-22.907893</td>\n",
       "      <td>-12.692373</td>\n",
       "    </tr>\n",
       "    <tr>\n",
       "      <th>10</th>\n",
       "      <td>four</td>\n",
       "      <td>-40.779281</td>\n",
       "      <td>-1.319291</td>\n",
       "    </tr>\n",
       "    <tr>\n",
       "      <th>11</th>\n",
       "      <td>religions</td>\n",
       "      <td>24.091071</td>\n",
       "      <td>26.205031</td>\n",
       "    </tr>\n",
       "    <tr>\n",
       "      <th>12</th>\n",
       "      <td>Sunday</td>\n",
       "      <td>-3.527823</td>\n",
       "      <td>-3.224063</td>\n",
       "    </tr>\n",
       "    <tr>\n",
       "      <th>13</th>\n",
       "      <td>jihad</td>\n",
       "      <td>23.850813</td>\n",
       "      <td>-33.428725</td>\n",
       "    </tr>\n",
       "    <tr>\n",
       "      <th>14</th>\n",
       "      <td>Amaaq</td>\n",
       "      <td>17.684713</td>\n",
       "      <td>-17.859878</td>\n",
       "    </tr>\n",
       "    <tr>\n",
       "      <th>15</th>\n",
       "      <td>battle</td>\n",
       "      <td>-37.841629</td>\n",
       "      <td>1.516573</td>\n",
       "    </tr>\n",
       "    <tr>\n",
       "      <th>16</th>\n",
       "      <td>soldiers</td>\n",
       "      <td>-27.102248</td>\n",
       "      <td>-29.401364</td>\n",
       "    </tr>\n",
       "    <tr>\n",
       "      <th>17</th>\n",
       "      <td>decisions</td>\n",
       "      <td>5.008081</td>\n",
       "      <td>0.769539</td>\n",
       "    </tr>\n",
       "    <tr>\n",
       "      <th>18</th>\n",
       "      <td>find</td>\n",
       "      <td>20.868381</td>\n",
       "      <td>-14.533488</td>\n",
       "    </tr>\n",
       "    <tr>\n",
       "      <th>19</th>\n",
       "      <td>We</td>\n",
       "      <td>-24.042808</td>\n",
       "      <td>37.916901</td>\n",
       "    </tr>\n",
       "    <tr>\n",
       "      <th>20</th>\n",
       "      <td>His</td>\n",
       "      <td>40.239654</td>\n",
       "      <td>57.793044</td>\n",
       "    </tr>\n",
       "    <tr>\n",
       "      <th>21</th>\n",
       "      <td>March</td>\n",
       "      <td>33.038613</td>\n",
       "      <td>4.832163</td>\n",
       "    </tr>\n",
       "    <tr>\n",
       "      <th>22</th>\n",
       "      <td>bestbiryani</td>\n",
       "      <td>17.152216</td>\n",
       "      <td>-16.698236</td>\n",
       "    </tr>\n",
       "    <tr>\n",
       "      <th>23</th>\n",
       "      <td>Gold</td>\n",
       "      <td>34.371134</td>\n",
       "      <td>30.218411</td>\n",
       "    </tr>\n",
       "    <tr>\n",
       "      <th>24</th>\n",
       "      <td>fortresses</td>\n",
       "      <td>-18.961437</td>\n",
       "      <td>17.927898</td>\n",
       "    </tr>\n",
       "    <tr>\n",
       "      <th>25</th>\n",
       "      <td>Emirati</td>\n",
       "      <td>-25.263965</td>\n",
       "      <td>-19.613773</td>\n",
       "    </tr>\n",
       "    <tr>\n",
       "      <th>26</th>\n",
       "      <td>winning</td>\n",
       "      <td>36.796608</td>\n",
       "      <td>44.965304</td>\n",
       "    </tr>\n",
       "    <tr>\n",
       "      <th>27</th>\n",
       "      <td>destroyed</td>\n",
       "      <td>-0.075269</td>\n",
       "      <td>-1.946605</td>\n",
       "    </tr>\n",
       "    <tr>\n",
       "      <th>28</th>\n",
       "      <td>to</td>\n",
       "      <td>32.596192</td>\n",
       "      <td>15.902188</td>\n",
       "    </tr>\n",
       "    <tr>\n",
       "      <th>29</th>\n",
       "      <td>finally</td>\n",
       "      <td>-22.507137</td>\n",
       "      <td>-12.574817</td>\n",
       "    </tr>\n",
       "    <tr>\n",
       "      <th>...</th>\n",
       "      <td>...</td>\n",
       "      <td>...</td>\n",
       "      <td>...</td>\n",
       "    </tr>\n",
       "    <tr>\n",
       "      <th>306</th>\n",
       "      <td>Souq</td>\n",
       "      <td>-36.411235</td>\n",
       "      <td>-7.536041</td>\n",
       "    </tr>\n",
       "    <tr>\n",
       "      <th>307</th>\n",
       "      <td>most</td>\n",
       "      <td>-5.644944</td>\n",
       "      <td>1.670924</td>\n",
       "    </tr>\n",
       "    <tr>\n",
       "      <th>308</th>\n",
       "      <td>assault</td>\n",
       "      <td>-35.627430</td>\n",
       "      <td>-2.552652</td>\n",
       "    </tr>\n",
       "    <tr>\n",
       "      <th>309</th>\n",
       "      <td>said</td>\n",
       "      <td>27.645875</td>\n",
       "      <td>2.433973</td>\n",
       "    </tr>\n",
       "    <tr>\n",
       "      <th>310</th>\n",
       "      <td>plan</td>\n",
       "      <td>-32.436317</td>\n",
       "      <td>-22.586954</td>\n",
       "    </tr>\n",
       "    <tr>\n",
       "      <th>311</th>\n",
       "      <td>plenty</td>\n",
       "      <td>3.525924</td>\n",
       "      <td>23.812817</td>\n",
       "    </tr>\n",
       "    <tr>\n",
       "      <th>312</th>\n",
       "      <td>hearts</td>\n",
       "      <td>-3.008935</td>\n",
       "      <td>-21.145194</td>\n",
       "    </tr>\n",
       "    <tr>\n",
       "      <th>313</th>\n",
       "      <td>Syria</td>\n",
       "      <td>-5.347269</td>\n",
       "      <td>10.025416</td>\n",
       "    </tr>\n",
       "    <tr>\n",
       "      <th>314</th>\n",
       "      <td>The</td>\n",
       "      <td>-4.660954</td>\n",
       "      <td>11.043032</td>\n",
       "    </tr>\n",
       "    <tr>\n",
       "      <th>315</th>\n",
       "      <td>may</td>\n",
       "      <td>18.230464</td>\n",
       "      <td>7.027583</td>\n",
       "    </tr>\n",
       "    <tr>\n",
       "      <th>316</th>\n",
       "      <td>response</td>\n",
       "      <td>-14.092142</td>\n",
       "      <td>33.336001</td>\n",
       "    </tr>\n",
       "    <tr>\n",
       "      <th>317</th>\n",
       "      <td>a</td>\n",
       "      <td>36.908502</td>\n",
       "      <td>20.110550</td>\n",
       "    </tr>\n",
       "    <tr>\n",
       "      <th>318</th>\n",
       "      <td>night</td>\n",
       "      <td>1.063352</td>\n",
       "      <td>-25.690280</td>\n",
       "    </tr>\n",
       "    <tr>\n",
       "      <th>319</th>\n",
       "      <td>fighter</td>\n",
       "      <td>38.547177</td>\n",
       "      <td>6.174966</td>\n",
       "    </tr>\n",
       "    <tr>\n",
       "      <th>320</th>\n",
       "      <td>blood</td>\n",
       "      <td>16.278265</td>\n",
       "      <td>-1.000131</td>\n",
       "    </tr>\n",
       "    <tr>\n",
       "      <th>321</th>\n",
       "      <td>Some</td>\n",
       "      <td>-25.174368</td>\n",
       "      <td>15.260286</td>\n",
       "    </tr>\n",
       "    <tr>\n",
       "      <th>322</th>\n",
       "      <td>It</td>\n",
       "      <td>1.389886</td>\n",
       "      <td>-32.324637</td>\n",
       "    </tr>\n",
       "    <tr>\n",
       "      <th>323</th>\n",
       "      <td>or</td>\n",
       "      <td>0.627406</td>\n",
       "      <td>-36.867585</td>\n",
       "    </tr>\n",
       "    <tr>\n",
       "      <th>324</th>\n",
       "      <td>their</td>\n",
       "      <td>21.934770</td>\n",
       "      <td>15.548603</td>\n",
       "    </tr>\n",
       "    <tr>\n",
       "      <th>325</th>\n",
       "      <td>cooked</td>\n",
       "      <td>4.351171</td>\n",
       "      <td>-48.944726</td>\n",
       "    </tr>\n",
       "    <tr>\n",
       "      <th>326</th>\n",
       "      <td>Shamsi</td>\n",
       "      <td>17.813518</td>\n",
       "      <td>30.811766</td>\n",
       "    </tr>\n",
       "    <tr>\n",
       "      <th>327</th>\n",
       "      <td>so</td>\n",
       "      <td>0.328525</td>\n",
       "      <td>-16.047336</td>\n",
       "    </tr>\n",
       "    <tr>\n",
       "      <th>328</th>\n",
       "      <td>greatest</td>\n",
       "      <td>-36.973186</td>\n",
       "      <td>36.438184</td>\n",
       "    </tr>\n",
       "    <tr>\n",
       "      <th>329</th>\n",
       "      <td>dish</td>\n",
       "      <td>-30.194109</td>\n",
       "      <td>-20.821340</td>\n",
       "    </tr>\n",
       "    <tr>\n",
       "      <th>330</th>\n",
       "      <td>perpetrator</td>\n",
       "      <td>4.515608</td>\n",
       "      <td>36.266948</td>\n",
       "    </tr>\n",
       "    <tr>\n",
       "      <th>331</th>\n",
       "      <td>Al</td>\n",
       "      <td>23.954918</td>\n",
       "      <td>-30.130302</td>\n",
       "    </tr>\n",
       "    <tr>\n",
       "      <th>332</th>\n",
       "      <td>the</td>\n",
       "      <td>37.552979</td>\n",
       "      <td>29.239142</td>\n",
       "    </tr>\n",
       "    <tr>\n",
       "      <th>333</th>\n",
       "      <td>left</td>\n",
       "      <td>-31.470932</td>\n",
       "      <td>12.976890</td>\n",
       "    </tr>\n",
       "    <tr>\n",
       "      <th>334</th>\n",
       "      <td>Nabaa</td>\n",
       "      <td>19.867858</td>\n",
       "      <td>12.211856</td>\n",
       "    </tr>\n",
       "    <tr>\n",
       "      <th>335</th>\n",
       "      <td>Islam</td>\n",
       "      <td>-26.328455</td>\n",
       "      <td>44.898404</td>\n",
       "    </tr>\n",
       "  </tbody>\n",
       "</table>\n",
       "<p>336 rows × 3 columns</p>\n",
       "</div>"
      ],
      "text/plain": [
       "            word          x          y\n",
       "0         rifles -24.213575  -3.010552\n",
       "1           bomb -34.507851 -26.001103\n",
       "2       feedback  10.043544   4.857262\n",
       "3          Thani  -2.697313 -49.748048\n",
       "4          Paris   2.861666 -28.239175\n",
       "5           over  14.414274  17.500368\n",
       "6           fall  20.078810  10.250752\n",
       "7        Islamic  28.367043  19.137521\n",
       "8        mission -10.653073  -9.090438\n",
       "9            ala -22.907893 -12.692373\n",
       "10          four -40.779281  -1.319291\n",
       "11     religions  24.091071  26.205031\n",
       "12        Sunday  -3.527823  -3.224063\n",
       "13         jihad  23.850813 -33.428725\n",
       "14         Amaaq  17.684713 -17.859878\n",
       "15        battle -37.841629   1.516573\n",
       "16      soldiers -27.102248 -29.401364\n",
       "17     decisions   5.008081   0.769539\n",
       "18          find  20.868381 -14.533488\n",
       "19            We -24.042808  37.916901\n",
       "20           His  40.239654  57.793044\n",
       "21         March  33.038613   4.832163\n",
       "22   bestbiryani  17.152216 -16.698236\n",
       "23          Gold  34.371134  30.218411\n",
       "24    fortresses -18.961437  17.927898\n",
       "25       Emirati -25.263965 -19.613773\n",
       "26       winning  36.796608  44.965304\n",
       "27     destroyed  -0.075269  -1.946605\n",
       "28            to  32.596192  15.902188\n",
       "29       finally -22.507137 -12.574817\n",
       "..           ...        ...        ...\n",
       "306         Souq -36.411235  -7.536041\n",
       "307         most  -5.644944   1.670924\n",
       "308      assault -35.627430  -2.552652\n",
       "309         said  27.645875   2.433973\n",
       "310         plan -32.436317 -22.586954\n",
       "311       plenty   3.525924  23.812817\n",
       "312       hearts  -3.008935 -21.145194\n",
       "313        Syria  -5.347269  10.025416\n",
       "314          The  -4.660954  11.043032\n",
       "315          may  18.230464   7.027583\n",
       "316     response -14.092142  33.336001\n",
       "317            a  36.908502  20.110550\n",
       "318        night   1.063352 -25.690280\n",
       "319      fighter  38.547177   6.174966\n",
       "320        blood  16.278265  -1.000131\n",
       "321         Some -25.174368  15.260286\n",
       "322           It   1.389886 -32.324637\n",
       "323           or   0.627406 -36.867585\n",
       "324        their  21.934770  15.548603\n",
       "325       cooked   4.351171 -48.944726\n",
       "326       Shamsi  17.813518  30.811766\n",
       "327           so   0.328525 -16.047336\n",
       "328     greatest -36.973186  36.438184\n",
       "329         dish -30.194109 -20.821340\n",
       "330  perpetrator   4.515608  36.266948\n",
       "331           Al  23.954918 -30.130302\n",
       "332          the  37.552979  29.239142\n",
       "333         left -31.470932  12.976890\n",
       "334        Nabaa  19.867858  12.211856\n",
       "335        Islam -26.328455  44.898404\n",
       "\n",
       "[336 rows x 3 columns]"
      ]
     },
     "execution_count": 96,
     "metadata": {},
     "output_type": "execute_result"
    }
   ],
   "source": [
    "points"
   ]
  },
  {
   "cell_type": "code",
   "execution_count": 97,
   "metadata": {
    "collapsed": true
   },
   "outputs": [],
   "source": [
    "sns.set_context(\"poster\")"
   ]
  },
  {
   "cell_type": "code",
   "execution_count": 98,
   "metadata": {
    "collapsed": false
   },
   "outputs": [
    {
     "data": {
      "text/plain": [
       "<matplotlib.axes._subplots.AxesSubplot at 0x11ce5fa90>"
      ]
     },
     "execution_count": 98,
     "metadata": {},
     "output_type": "execute_result"
    },
    {
     "data": {
      "image/png": "[encoded data removed]",
      "text/plain": [
       "<matplotlib.figure.Figure at 0x11c2f3310>"
      ]
     },
     "metadata": {},
     "output_type": "display_data"
    }
   ],
   "source": [
    "points.plot.scatter(\"x\", \"y\", s=10, figsize=(20, 12))"
   ]
  },
  {
   "cell_type": "code",
   "execution_count": 35,
   "metadata": {
    "collapsed": true
   },
   "outputs": [],
   "source": [
    "thrones2vec = w2v.Word2Vec.load(os.path.join(\"trained\", \"test.w2v\"))"
   ]
  },
  {
   "cell_type": "code",
   "execution_count": 36,
   "metadata": {
    "collapsed": false
   },
   "outputs": [],
   "source": [
    "all_word_vectors_matrix = thrones2vec.syn0"
   ]
  },
  {
   "cell_type": "code",
   "execution_count": 37,
   "metadata": {
    "collapsed": true
   },
   "outputs": [],
   "source": [
    "all_word_vectors_matrix_2d = tsne.fit_transform(all_word_vectors_matrix)"
   ]
  },
  {
   "cell_type": "code",
   "execution_count": 38,
   "metadata": {
    "collapsed": true
   },
   "outputs": [],
   "source": [
    "pointsTrain = pd.DataFrame(\n",
    "    [\n",
    "        (word, coords[0], coords[1])\n",
    "        for word, coords in [\n",
    "            (word, all_word_vectors_matrix_2d[thrones2vec.vocab[word].index])\n",
    "            for word in thrones2vec.vocab\n",
    "        ]\n",
    "    ],\n",
    "    columns=[\"word\", \"x\", \"y\"]\n",
    ")"
   ]
  },
  {
   "cell_type": "code",
   "execution_count": 39,
   "metadata": {
    "collapsed": false
   },
   "outputs": [
    {
     "data": {
      "text/html": [
       "<div>\n",
       "<table border=\"1\" class=\"dataframe\">\n",
       "  <thead>\n",
       "    <tr style=\"text-align: right;\">\n",
       "      <th></th>\n",
       "      <th>word</th>\n",
       "      <th>x</th>\n",
       "      <th>y</th>\n",
       "    </tr>\n",
       "  </thead>\n",
       "  <tbody>\n",
       "    <tr>\n",
       "      <th>0</th>\n",
       "      <td>all</td>\n",
       "      <td>-19.372383</td>\n",
       "      <td>-37.957408</td>\n",
       "    </tr>\n",
       "    <tr>\n",
       "      <th>1</th>\n",
       "      <td>rifles</td>\n",
       "      <td>-191.233436</td>\n",
       "      <td>18.626565</td>\n",
       "    </tr>\n",
       "    <tr>\n",
       "      <th>2</th>\n",
       "      <td>consider</td>\n",
       "      <td>48.237699</td>\n",
       "      <td>-83.599030</td>\n",
       "    </tr>\n",
       "    <tr>\n",
       "      <th>3</th>\n",
       "      <td>just</td>\n",
       "      <td>63.335930</td>\n",
       "      <td>97.865377</td>\n",
       "    </tr>\n",
       "    <tr>\n",
       "      <th>4</th>\n",
       "      <td>less</td>\n",
       "      <td>-20.125968</td>\n",
       "      <td>-22.863379</td>\n",
       "    </tr>\n",
       "    <tr>\n",
       "      <th>5</th>\n",
       "      <td>Paris</td>\n",
       "      <td>-71.701289</td>\n",
       "      <td>-35.527307</td>\n",
       "    </tr>\n",
       "    <tr>\n",
       "      <th>6</th>\n",
       "      <td>Islamic</td>\n",
       "      <td>80.138057</td>\n",
       "      <td>-71.729156</td>\n",
       "    </tr>\n",
       "    <tr>\n",
       "      <th>7</th>\n",
       "      <td>ala</td>\n",
       "      <td>-15.243868</td>\n",
       "      <td>45.559471</td>\n",
       "    </tr>\n",
       "    <tr>\n",
       "      <th>8</th>\n",
       "      <td>lands</td>\n",
       "      <td>54.828588</td>\n",
       "      <td>-3.296577</td>\n",
       "    </tr>\n",
       "    <tr>\n",
       "      <th>9</th>\n",
       "      <td>Hashr</td>\n",
       "      <td>-62.990132</td>\n",
       "      <td>-10.326924</td>\n",
       "    </tr>\n",
       "    <tr>\n",
       "      <th>10</th>\n",
       "      <td>battle</td>\n",
       "      <td>63.701091</td>\n",
       "      <td>-8.573551</td>\n",
       "    </tr>\n",
       "    <tr>\n",
       "      <th>11</th>\n",
       "      <td>soldiers</td>\n",
       "      <td>-100.563823</td>\n",
       "      <td>-240.459757</td>\n",
       "    </tr>\n",
       "    <tr>\n",
       "      <th>12</th>\n",
       "      <td>houses</td>\n",
       "      <td>31.817051</td>\n",
       "      <td>-20.572511</td>\n",
       "    </tr>\n",
       "    <tr>\n",
       "      <th>13</th>\n",
       "      <td>Francois</td>\n",
       "      <td>-37.190310</td>\n",
       "      <td>48.780275</td>\n",
       "    </tr>\n",
       "    <tr>\n",
       "      <th>14</th>\n",
       "      <td>its</td>\n",
       "      <td>165.885338</td>\n",
       "      <td>-54.725344</td>\n",
       "    </tr>\n",
       "    <tr>\n",
       "      <th>15</th>\n",
       "      <td>causes</td>\n",
       "      <td>88.453121</td>\n",
       "      <td>-7.660704</td>\n",
       "    </tr>\n",
       "    <tr>\n",
       "      <th>16</th>\n",
       "      <td>exhibitions</td>\n",
       "      <td>-39.608941</td>\n",
       "      <td>68.059209</td>\n",
       "    </tr>\n",
       "    <tr>\n",
       "      <th>17</th>\n",
       "      <td>whose</td>\n",
       "      <td>-47.909947</td>\n",
       "      <td>-43.719792</td>\n",
       "    </tr>\n",
       "    <tr>\n",
       "      <th>18</th>\n",
       "      <td>We</td>\n",
       "      <td>11.465520</td>\n",
       "      <td>-65.620776</td>\n",
       "    </tr>\n",
       "    <tr>\n",
       "      <th>19</th>\n",
       "      <td>His</td>\n",
       "      <td>-97.233439</td>\n",
       "      <td>58.129180</td>\n",
       "    </tr>\n",
       "    <tr>\n",
       "      <th>20</th>\n",
       "      <td>group</td>\n",
       "      <td>-6.044580</td>\n",
       "      <td>94.247245</td>\n",
       "    </tr>\n",
       "    <tr>\n",
       "      <th>21</th>\n",
       "      <td>spite</td>\n",
       "      <td>62.669055</td>\n",
       "      <td>41.233855</td>\n",
       "    </tr>\n",
       "    <tr>\n",
       "      <th>22</th>\n",
       "      <td>religion</td>\n",
       "      <td>-39.050051</td>\n",
       "      <td>-36.249592</td>\n",
       "    </tr>\n",
       "    <tr>\n",
       "      <th>23</th>\n",
       "      <td>chosen</td>\n",
       "      <td>-77.061321</td>\n",
       "      <td>-78.538411</td>\n",
       "    </tr>\n",
       "    <tr>\n",
       "      <th>24</th>\n",
       "      <td>masses</td>\n",
       "      <td>-43.847972</td>\n",
       "      <td>-88.885584</td>\n",
       "    </tr>\n",
       "    <tr>\n",
       "      <th>25</th>\n",
       "      <td>had</td>\n",
       "      <td>-119.660991</td>\n",
       "      <td>-21.428894</td>\n",
       "    </tr>\n",
       "    <tr>\n",
       "      <th>26</th>\n",
       "      <td>him</td>\n",
       "      <td>19.586729</td>\n",
       "      <td>-93.088259</td>\n",
       "    </tr>\n",
       "    <tr>\n",
       "      <th>27</th>\n",
       "      <td>destroyed</td>\n",
       "      <td>37.472032</td>\n",
       "      <td>78.229456</td>\n",
       "    </tr>\n",
       "    <tr>\n",
       "      <th>28</th>\n",
       "      <td>to</td>\n",
       "      <td>42.599989</td>\n",
       "      <td>-65.709820</td>\n",
       "    </tr>\n",
       "    <tr>\n",
       "      <th>29</th>\n",
       "      <td>Muslims</td>\n",
       "      <td>-152.009990</td>\n",
       "      <td>8.440835</td>\n",
       "    </tr>\n",
       "    <tr>\n",
       "      <th>...</th>\n",
       "      <td>...</td>\n",
       "      <td>...</td>\n",
       "      <td>...</td>\n",
       "    </tr>\n",
       "    <tr>\n",
       "      <th>218</th>\n",
       "      <td>may</td>\n",
       "      <td>-98.404648</td>\n",
       "      <td>29.896148</td>\n",
       "    </tr>\n",
       "    <tr>\n",
       "      <th>219</th>\n",
       "      <td>Prophet</td>\n",
       "      <td>-141.450417</td>\n",
       "      <td>-19.222436</td>\n",
       "    </tr>\n",
       "    <tr>\n",
       "      <th>220</th>\n",
       "      <td>who</td>\n",
       "      <td>3.948731</td>\n",
       "      <td>-0.579369</td>\n",
       "    </tr>\n",
       "    <tr>\n",
       "      <th>221</th>\n",
       "      <td>upon</td>\n",
       "      <td>-87.583180</td>\n",
       "      <td>-122.795704</td>\n",
       "    </tr>\n",
       "    <tr>\n",
       "      <th>222</th>\n",
       "      <td>peace</td>\n",
       "      <td>55.064700</td>\n",
       "      <td>84.826074</td>\n",
       "    </tr>\n",
       "    <tr>\n",
       "      <th>223</th>\n",
       "      <td>assault</td>\n",
       "      <td>26.661606</td>\n",
       "      <td>78.151986</td>\n",
       "    </tr>\n",
       "    <tr>\n",
       "      <th>224</th>\n",
       "      <td>curse</td>\n",
       "      <td>38.556795</td>\n",
       "      <td>32.217211</td>\n",
       "    </tr>\n",
       "    <tr>\n",
       "      <th>225</th>\n",
       "      <td>eight</td>\n",
       "      <td>-187.810329</td>\n",
       "      <td>-393.308514</td>\n",
       "    </tr>\n",
       "    <tr>\n",
       "      <th>226</th>\n",
       "      <td>but</td>\n",
       "      <td>-29.013264</td>\n",
       "      <td>-30.272766</td>\n",
       "    </tr>\n",
       "    <tr>\n",
       "      <th>227</th>\n",
       "      <td>included</td>\n",
       "      <td>-55.658328</td>\n",
       "      <td>-24.119561</td>\n",
       "    </tr>\n",
       "    <tr>\n",
       "      <th>228</th>\n",
       "      <td>partake</td>\n",
       "      <td>-91.995688</td>\n",
       "      <td>15.249473</td>\n",
       "    </tr>\n",
       "    <tr>\n",
       "      <th>229</th>\n",
       "      <td>The</td>\n",
       "      <td>13.439303</td>\n",
       "      <td>-6.362542</td>\n",
       "    </tr>\n",
       "    <tr>\n",
       "      <th>230</th>\n",
       "      <td>on</td>\n",
       "      <td>73.969036</td>\n",
       "      <td>14.245155</td>\n",
       "    </tr>\n",
       "    <tr>\n",
       "      <th>231</th>\n",
       "      <td>filthy</td>\n",
       "      <td>41.696724</td>\n",
       "      <td>-20.327896</td>\n",
       "    </tr>\n",
       "    <tr>\n",
       "      <th>232</th>\n",
       "      <td>a</td>\n",
       "      <td>76.676950</td>\n",
       "      <td>-14.972548</td>\n",
       "    </tr>\n",
       "    <tr>\n",
       "      <th>233</th>\n",
       "      <td>All</td>\n",
       "      <td>28.855513</td>\n",
       "      <td>-45.603503</td>\n",
       "    </tr>\n",
       "    <tr>\n",
       "      <th>234</th>\n",
       "      <td>lead</td>\n",
       "      <td>47.429596</td>\n",
       "      <td>-27.735866</td>\n",
       "    </tr>\n",
       "    <tr>\n",
       "      <th>235</th>\n",
       "      <td>vice</td>\n",
       "      <td>185.690977</td>\n",
       "      <td>-25.850160</td>\n",
       "    </tr>\n",
       "    <tr>\n",
       "      <th>236</th>\n",
       "      <td>nostrils</td>\n",
       "      <td>103.564915</td>\n",
       "      <td>34.078010</td>\n",
       "    </tr>\n",
       "    <tr>\n",
       "      <th>237</th>\n",
       "      <td>life</td>\n",
       "      <td>-13.704890</td>\n",
       "      <td>64.006308</td>\n",
       "    </tr>\n",
       "    <tr>\n",
       "      <th>238</th>\n",
       "      <td>Al</td>\n",
       "      <td>-14.903535</td>\n",
       "      <td>20.413965</td>\n",
       "    </tr>\n",
       "    <tr>\n",
       "      <th>239</th>\n",
       "      <td>thought</td>\n",
       "      <td>10.470844</td>\n",
       "      <td>10.187605</td>\n",
       "    </tr>\n",
       "    <tr>\n",
       "      <th>240</th>\n",
       "      <td>so</td>\n",
       "      <td>64.861049</td>\n",
       "      <td>5.743265</td>\n",
       "    </tr>\n",
       "    <tr>\n",
       "      <th>241</th>\n",
       "      <td>greatest</td>\n",
       "      <td>-51.222335</td>\n",
       "      <td>-1.916730</td>\n",
       "    </tr>\n",
       "    <tr>\n",
       "      <th>242</th>\n",
       "      <td>allow</td>\n",
       "      <td>-77.318179</td>\n",
       "      <td>-11.730633</td>\n",
       "    </tr>\n",
       "    <tr>\n",
       "      <th>243</th>\n",
       "      <td>In</td>\n",
       "      <td>0.312680</td>\n",
       "      <td>63.633498</td>\n",
       "    </tr>\n",
       "    <tr>\n",
       "      <th>244</th>\n",
       "      <td>hearts</td>\n",
       "      <td>67.289466</td>\n",
       "      <td>-39.834769</td>\n",
       "    </tr>\n",
       "    <tr>\n",
       "      <th>245</th>\n",
       "      <td>the</td>\n",
       "      <td>92.198559</td>\n",
       "      <td>-57.133202</td>\n",
       "    </tr>\n",
       "    <tr>\n",
       "      <th>246</th>\n",
       "      <td>came</td>\n",
       "      <td>8.708575</td>\n",
       "      <td>70.183832</td>\n",
       "    </tr>\n",
       "    <tr>\n",
       "      <th>247</th>\n",
       "      <td>Islam</td>\n",
       "      <td>16.555875</td>\n",
       "      <td>100.223806</td>\n",
       "    </tr>\n",
       "  </tbody>\n",
       "</table>\n",
       "<p>248 rows × 3 columns</p>\n",
       "</div>"
      ],
      "text/plain": [
       "            word           x           y\n",
       "0            all  -19.372383  -37.957408\n",
       "1         rifles -191.233436   18.626565\n",
       "2       consider   48.237699  -83.599030\n",
       "3           just   63.335930   97.865377\n",
       "4           less  -20.125968  -22.863379\n",
       "5          Paris  -71.701289  -35.527307\n",
       "6        Islamic   80.138057  -71.729156\n",
       "7            ala  -15.243868   45.559471\n",
       "8          lands   54.828588   -3.296577\n",
       "9          Hashr  -62.990132  -10.326924\n",
       "10        battle   63.701091   -8.573551\n",
       "11      soldiers -100.563823 -240.459757\n",
       "12        houses   31.817051  -20.572511\n",
       "13      Francois  -37.190310   48.780275\n",
       "14           its  165.885338  -54.725344\n",
       "15        causes   88.453121   -7.660704\n",
       "16   exhibitions  -39.608941   68.059209\n",
       "17         whose  -47.909947  -43.719792\n",
       "18            We   11.465520  -65.620776\n",
       "19           His  -97.233439   58.129180\n",
       "20         group   -6.044580   94.247245\n",
       "21         spite   62.669055   41.233855\n",
       "22      religion  -39.050051  -36.249592\n",
       "23        chosen  -77.061321  -78.538411\n",
       "24        masses  -43.847972  -88.885584\n",
       "25           had -119.660991  -21.428894\n",
       "26           him   19.586729  -93.088259\n",
       "27     destroyed   37.472032   78.229456\n",
       "28            to   42.599989  -65.709820\n",
       "29       Muslims -152.009990    8.440835\n",
       "..           ...         ...         ...\n",
       "218          may  -98.404648   29.896148\n",
       "219      Prophet -141.450417  -19.222436\n",
       "220          who    3.948731   -0.579369\n",
       "221         upon  -87.583180 -122.795704\n",
       "222        peace   55.064700   84.826074\n",
       "223      assault   26.661606   78.151986\n",
       "224        curse   38.556795   32.217211\n",
       "225        eight -187.810329 -393.308514\n",
       "226          but  -29.013264  -30.272766\n",
       "227     included  -55.658328  -24.119561\n",
       "228      partake  -91.995688   15.249473\n",
       "229          The   13.439303   -6.362542\n",
       "230           on   73.969036   14.245155\n",
       "231       filthy   41.696724  -20.327896\n",
       "232            a   76.676950  -14.972548\n",
       "233          All   28.855513  -45.603503\n",
       "234         lead   47.429596  -27.735866\n",
       "235         vice  185.690977  -25.850160\n",
       "236     nostrils  103.564915   34.078010\n",
       "237         life  -13.704890   64.006308\n",
       "238           Al  -14.903535   20.413965\n",
       "239      thought   10.470844   10.187605\n",
       "240           so   64.861049    5.743265\n",
       "241     greatest  -51.222335   -1.916730\n",
       "242        allow  -77.318179  -11.730633\n",
       "243           In    0.312680   63.633498\n",
       "244       hearts   67.289466  -39.834769\n",
       "245          the   92.198559  -57.133202\n",
       "246         came    8.708575   70.183832\n",
       "247        Islam   16.555875  100.223806\n",
       "\n",
       "[248 rows x 3 columns]"
      ]
     },
     "execution_count": 39,
     "metadata": {},
     "output_type": "execute_result"
    }
   ],
   "source": [
    "pointsTrain"
   ]
  },
  {
   "cell_type": "code",
   "execution_count": null,
   "metadata": {
    "collapsed": true
   },
   "outputs": [],
   "source": []
  },
  {
   "cell_type": "code",
   "execution_count": null,
   "metadata": {
    "collapsed": true
   },
   "outputs": [],
   "source": []
  }
 ],
 "metadata": {
  "anaconda-cloud": {},
  "kernelspec": {
   "display_name": "Python [Root]",
   "language": "python",
   "name": "Python [Root]"
  },
  "language_info": {
   "codemirror_mode": {
    "name": "ipython",
    "version": 2
   },
   "file_extension": ".py",
   "mimetype": "text/x-python",
   "name": "python",
   "nbconvert_exporter": "python",
   "pygments_lexer": "ipython2",
   "version": "2.7.12"
  }
 },
 "nbformat": 4,
 "nbformat_minor": 0
}
